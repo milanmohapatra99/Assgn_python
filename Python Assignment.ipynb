{
 "cells": [
  {
   "cell_type": "markdown",
   "id": "c60f1c0c",
   "metadata": {},
   "source": [
    "Q1. Write a Python program to reverse a string without using any built-in string reversal functions.\n"
   ]
  },
  {
   "cell_type": "code",
   "execution_count": 1,
   "id": "42cb2045",
   "metadata": {},
   "outputs": [
    {
     "name": "stdout",
     "output_type": "stream",
     "text": [
      "Enter a string: hello\n",
      "Reversed string: olleh\n"
     ]
    }
   ],
   "source": [
    "def reverse_string(input_str):\n",
    "    reversed_str = \"\"\n",
    "    for i in range(len(input_str) - 1, -1, -1):\n",
    "        reversed_str += input_str[i]\n",
    "    return reversed_str\n",
    "\n",
    "# Test the function\n",
    "string = input(\"Enter a string: \")\n",
    "reversed_string = reverse_string(string)\n",
    "print(\"Reversed string:\", reversed_string)\n"
   ]
  },
  {
   "cell_type": "markdown",
   "id": "981d2f8f",
   "metadata": {},
   "source": [
    "Q2. Implement a function to check if a given string is a palindrome."
   ]
  },
  {
   "cell_type": "code",
   "execution_count": 1,
   "id": "86e8e5a8",
   "metadata": {},
   "outputs": [
    {
     "name": "stdout",
     "output_type": "stream",
     "text": [
      "Enter a string: Hii\n",
      "The string is not a palindrome.\n"
     ]
    }
   ],
   "source": [
    "def palindrome(input_str):\n",
    "    input_str = input_str.lower()  # Convert to lowercase for case-insensitive comparison\n",
    "    input_str = input_str.replace(\" \", \"\")  # Remove whitespace from the string\n",
    "\n",
    "    reversed_str = \"\"\n",
    "    for i in range(len(input_str) - 1, -1, -1):\n",
    "        reversed_str += input_str[i]\n",
    "\n",
    "    return input_str == reversed_str\n",
    "\n",
    "# Test the function\n",
    "string = input(\"Enter a string: \")\n",
    "if palindrome(string):\n",
    "    print(\"The string is a palindrome.\")\n",
    "else:\n",
    "    print(\"The string is not a palindrome.\")\n"
   ]
  },
  {
   "cell_type": "markdown",
   "id": "5f776abd",
   "metadata": {},
   "source": [
    "Q3. Write a program to find the largest element in a given list."
   ]
  },
  {
   "cell_type": "code",
   "execution_count": 2,
   "id": "101fc942",
   "metadata": {},
   "outputs": [
    {
     "name": "stdout",
     "output_type": "stream",
     "text": [
      "The largest element is: 15\n"
     ]
    }
   ],
   "source": [
    "def find_largest_element(lst):\n",
    "    if len(lst) == 0:\n",
    "        return None\n",
    "\n",
    "    largest = lst[0]\n",
    "    for num in lst:\n",
    "        if num > largest:\n",
    "            largest = num\n",
    "\n",
    "    return largest\n",
    "\n",
    "# Test the function\n",
    "numbers = [9, 4, 6, 2, 8, 3, 1, 7, 5, 10, 15]\n",
    "largest_number = find_largest_element(numbers)\n",
    "print(\"The largest element is:\", largest_number)\n"
   ]
  },
  {
   "cell_type": "markdown",
   "id": "7856c344",
   "metadata": {},
   "source": [
    "Q4. Implement a function to count the occurrence of each element in a list."
   ]
  },
  {
   "cell_type": "code",
   "execution_count": 3,
   "id": "77d62146",
   "metadata": {},
   "outputs": [
    {
     "name": "stdout",
     "output_type": "stream",
     "text": [
      "Occurrences: {1: 2, 2: 3, 3: 3, 4: 2, 5: 1}\n"
     ]
    }
   ],
   "source": [
    "def count_occurr(lst):\n",
    "    occurr_count = {}\n",
    "    for element in lst:\n",
    "        if element in occurr_count:\n",
    "            occurr_count[element] += 1\n",
    "        else:\n",
    "            occurr_count[element] = 1\n",
    "    return occurr_count\n",
    "\n",
    "# Test the function\n",
    "numbers = [1, 2, 3, 2, 1, 3, 4, 5, 4, 2, 3]\n",
    "occurr_dict = count_occurr(numbers)\n",
    "print(\"Occurrences:\", occurr_dict)\n"
   ]
  },
  {
   "cell_type": "markdown",
   "id": "cc84f58c",
   "metadata": {},
   "source": [
    "Q5. Write a Python program to find the second largest number in a list."
   ]
  },
  {
   "cell_type": "code",
   "execution_count": null,
   "id": "cba7c38f",
   "metadata": {},
   "outputs": [],
   "source": [
    "def scnd_largest(numbers):\n",
    "    if len(numbers) < 2:\n",
    "        return None\n",
    "\n",
    "    largest = float('-inf')  # Initialize largest as negative infinity\n",
    "    second_largest = float('-inf')  # Initialize second largest as negative infinity\n",
    "\n",
    "    for num in numbers:\n",
    "        if num > largest:\n",
    "            second_largest = largest\n",
    "            largest = num\n",
    "        elif num > second_largest and num != largest:\n",
    "            second_largest = num\n",
    "\n",
    "    return second_largest\n",
    "\n",
    "# Test the function\n",
    "numbers = [9, 4, 6, 2, 8, 3, 1, 7, 5]\n",
    "second_largest = scnd_largest(numbers)\n",
    "if second_largest is not None:\n",
    "    print(\"The second largest number is:\", second_largest)\n",
    "else:\n",
    "    print(\"There is no second largest number.\")\n"
   ]
  },
  {
   "cell_type": "markdown",
   "id": "0920cd63",
   "metadata": {},
   "source": [
    "Q6. Implement a function to remove duplicate elements from a list."
   ]
  },
  {
   "cell_type": "code",
   "execution_count": 6,
   "id": "475842c9",
   "metadata": {},
   "outputs": [
    {
     "name": "stdout",
     "output_type": "stream",
     "text": [
      "List with duplicates removed: [1, 2, 3, 4, 5]\n"
     ]
    }
   ],
   "source": [
    "def remove_duplicates(lst):\n",
    "    unique_list = []\n",
    "    for element in lst:\n",
    "        if element not in unique_list:\n",
    "            unique_list.append(element)\n",
    "    return unique_list\n",
    "\n",
    "# Test the function\n",
    "numbers = [1, 2, 3, 2, 1, 3, 4, 5, 4, 2, 3]\n",
    "unique_numbers = remove_duplicates(numbers)\n",
    "print(\"List with duplicates removed:\", unique_numbers)\n"
   ]
  },
  {
   "cell_type": "markdown",
   "id": "989473da",
   "metadata": {},
   "source": [
    "Q7. Write a program to calculate the factorial of a given number."
   ]
  },
  {
   "cell_type": "code",
   "execution_count": 7,
   "id": "257203ef",
   "metadata": {},
   "outputs": [
    {
     "name": "stdout",
     "output_type": "stream",
     "text": [
      "Enter a number: 9\n",
      "Factorial of 9 is: 362880\n"
     ]
    }
   ],
   "source": [
    "def calculate_factorial(n):\n",
    "    if n < 0:\n",
    "        return None\n",
    "    elif n == 0:\n",
    "        return 1\n",
    "    else:\n",
    "        factorial = 1\n",
    "        for i in range(1, n + 1):\n",
    "            factorial *= i\n",
    "        return factorial\n",
    "\n",
    "# Test the function\n",
    "number = int(input(\"Enter a number: \"))\n",
    "factorial = calculate_factorial(number)\n",
    "if factorial is not None:\n",
    "    print(\"Factorial of\", number, \"is:\", factorial)\n",
    "else:\n",
    "    print(\"Factorial cannot be calculated for a negative number.\")\n"
   ]
  },
  {
   "cell_type": "markdown",
   "id": "d8dd8f29",
   "metadata": {},
   "source": [
    "Q8. Implement a function to check if a given number is prime."
   ]
  },
  {
   "cell_type": "code",
   "execution_count": 8,
   "id": "6bf827aa",
   "metadata": {},
   "outputs": [
    {
     "name": "stdout",
     "output_type": "stream",
     "text": [
      "Enter a number: 15\n",
      "15 is not a prime number.\n"
     ]
    }
   ],
   "source": [
    "def is_prime(number):\n",
    "    if number < 2:\n",
    "        return False\n",
    "\n",
    "    for i in range(2, int(number ** 0.5) + 1):\n",
    "        if number % i == 0:\n",
    "            return False\n",
    "\n",
    "    return True\n",
    "\n",
    "# Test the function\n",
    "number = int(input(\"Enter a number: \"))\n",
    "if is_prime(number):\n",
    "    print(number, \"is a prime number.\")\n",
    "else:\n",
    "    print(number, \"is not a prime number.\")\n"
   ]
  },
  {
   "cell_type": "markdown",
   "id": "24c36017",
   "metadata": {},
   "source": [
    "Q9. Write a Python program to sort a list of integers in ascending order."
   ]
  },
  {
   "cell_type": "code",
   "execution_count": 9,
   "id": "6f9eabd8",
   "metadata": {},
   "outputs": [
    {
     "name": "stdout",
     "output_type": "stream",
     "text": [
      "Sorted list: [1, 2, 3, 4, 5, 6, 7, 8, 9]\n"
     ]
    }
   ],
   "source": [
    "def sort_list(numbers):\n",
    "    sorted_numbers = sorted(numbers)\n",
    "    return sorted_numbers\n",
    "\n",
    "# Test the function\n",
    "numbers = [9, 4, 6, 2, 8, 3, 1, 7, 5]\n",
    "sorted_numbers = sort_list(numbers)\n",
    "print(\"Sorted list:\", sorted_numbers)\n"
   ]
  },
  {
   "cell_type": "markdown",
   "id": "db99d378",
   "metadata": {},
   "source": [
    "10. Implement a function to find the sum of all numbers in a list."
   ]
  },
  {
   "cell_type": "code",
   "execution_count": 20,
   "id": "d07f56bc",
   "metadata": {},
   "outputs": [
    {
     "name": "stdout",
     "output_type": "stream",
     "text": [
      "Sum of numbers: 36\n"
     ]
    }
   ],
   "source": [
    "def calculate_sum(numbers):\n",
    "    total = 0\n",
    "    for number in numbers:\n",
    "        total += number\n",
    "    return total\n",
    "\n",
    "# Test the function\n",
    "numbers = [1, 2, 3, 4, 5,6,7,8]\n",
    "sum_of_numbers = calculate_sum(numbers)\n",
    "print(\"Sum of numbers:\", sum_of_numbers)\n"
   ]
  },
  {
   "cell_type": "markdown",
   "id": "6e740952",
   "metadata": {},
   "source": [
    "11. Write a program to find the common elements between two lists."
   ]
  },
  {
   "cell_type": "code",
   "execution_count": 22,
   "id": "58b6bf22",
   "metadata": {},
   "outputs": [
    {
     "name": "stdout",
     "output_type": "stream",
     "text": [
      "Common elements: [4, 5, 6]\n"
     ]
    }
   ],
   "source": [
    "def find_common_elements(list1, list2):\n",
    "    common_elements = []\n",
    "    for element in list1:\n",
    "        if element in list2:\n",
    "            common_elements.append(element)\n",
    "    return common_elements\n",
    "\n",
    "# Test the function\n",
    "list1 = [1, 2, 3, 4, 5, 6]\n",
    "list2 = [4, 5, 6, 7, 8, 9]\n",
    "common_elements = find_common_elements(list1, list2)\n",
    "print(\"Common elements:\", common_elements)\n"
   ]
  },
  {
   "cell_type": "markdown",
   "id": "c666c8bf",
   "metadata": {},
   "source": [
    "12. Implement a function to check if a given string is an anagram of another string."
   ]
  },
  {
   "cell_type": "code",
   "execution_count": 23,
   "id": "50f80c00",
   "metadata": {},
   "outputs": [
    {
     "name": "stdout",
     "output_type": "stream",
     "text": [
      "Enter the first string: Lucy\n",
      "Enter the second string: miLu\n",
      "The strings are not anagrams.\n"
     ]
    }
   ],
   "source": [
    "def is_anagram(string1, string2):\n",
    "    # Convert both strings to lowercase and remove spaces\n",
    "    string1 = string1.lower().replace(\" \", \"\")\n",
    "    string2 = string2.lower().replace(\" \", \"\")\n",
    "\n",
    "    # Check if the lengths of the strings are equal\n",
    "    if len(string1) != len(string2):\n",
    "        return False\n",
    "\n",
    "    # Sort the characters in both strings\n",
    "    sorted_string1 = sorted(string1)\n",
    "    sorted_string2 = sorted(string2)\n",
    "\n",
    "    # Compare the sorted strings\n",
    "    if sorted_string1 == sorted_string2:\n",
    "        return True\n",
    "    else:\n",
    "        return False\n",
    "\n",
    "# Test the function\n",
    "str1 = input(\"Enter the first string: \")\n",
    "str2 = input(\"Enter the second string: \")\n",
    "\n",
    "if is_anagram(str1, str2):\n",
    "    print(\"The strings are anagrams.\")\n",
    "else:\n",
    "    print(\"The strings are not anagrams.\")\n"
   ]
  },
  {
   "cell_type": "markdown",
   "id": "ea955b19",
   "metadata": {},
   "source": [
    "13. Write a Python program to generate all permutations of a given string."
   ]
  },
  {
   "cell_type": "code",
   "execution_count": 24,
   "id": "1c417dbc",
   "metadata": {},
   "outputs": [
    {
     "name": "stdout",
     "output_type": "stream",
     "text": [
      "Enter a string: ads\n",
      "Permutations:\n",
      "ads\n",
      "asd\n",
      "das\n",
      "dsa\n",
      "sad\n",
      "sda\n"
     ]
    }
   ],
   "source": [
    "def permutations(string):\n",
    "    # Base case: if the string has only one character, return it as a single permutation\n",
    "    if len(string) == 1:\n",
    "        return [string]\n",
    "\n",
    "    # Recursive case: generate permutations by selecting each character as the first character\n",
    "    result = []\n",
    "    for i in range(len(string)):\n",
    "        char = string[i]\n",
    "\n",
    "        # Generate permutations of the remaining characters\n",
    "        remaining_chars = string[:i] + string[i+1:]\n",
    "        sub_permutations = permutations(remaining_chars)\n",
    "\n",
    "        # Add the current character to each permutation of the remaining characters\n",
    "        for sub_permutation in sub_permutations:\n",
    "            result.append(char + sub_permutation)\n",
    "\n",
    "    return result\n",
    "\n",
    "# Test the function\n",
    "input_string = input(\"Enter a string: \")\n",
    "perms = permutations(input_string)\n",
    "print(\"Permutations:\")\n",
    "for perm in perms:\n",
    "    print(perm)\n"
   ]
  },
  {
   "cell_type": "markdown",
   "id": "1e8b4851",
   "metadata": {},
   "source": [
    "14. Implement a function to calculate the Fibonacci sequence up to a given number of terms."
   ]
  },
  {
   "cell_type": "code",
   "execution_count": 26,
   "id": "00ff186c",
   "metadata": {},
   "outputs": [
    {
     "name": "stdout",
     "output_type": "stream",
     "text": [
      "Enter the number of terms: 9\n",
      "Fibonacci Sequence:\n",
      "[0, 1, 1, 2, 3, 5, 8, 13, 21]\n"
     ]
    }
   ],
   "source": [
    "def fibonacci_sequence(num_terms):\n",
    "    sequence = []\n",
    "\n",
    "    # First two terms of the Fibonacci sequence\n",
    "    term1 = 0\n",
    "    term2 = 1\n",
    "\n",
    "    # Check if the number of terms is valid\n",
    "    if num_terms <= 0:\n",
    "        return sequence\n",
    "\n",
    "    # Append the first term\n",
    "    sequence.append(term1)\n",
    "\n",
    "    # Generate the Fibonacci sequence up to the specified number of terms\n",
    "    for _ in range(num_terms - 1):\n",
    "        sequence.append(term2)\n",
    "        next_term = term1 + term2\n",
    "        term1 = term2\n",
    "        term2 = next_term\n",
    "\n",
    "    return sequence\n",
    "\n",
    "# Test the function\n",
    "num_terms = int(input(\"Enter the number of terms: \"))\n",
    "fib_sequence = fibonacci_sequence(num_terms)\n",
    "print(\"Fibonacci Sequence:\")\n",
    "print(fib_sequence)\n"
   ]
  },
  {
   "cell_type": "markdown",
   "id": "305112e0",
   "metadata": {},
   "source": [
    "15. Write a program to find the median of a list of numbers."
   ]
  },
  {
   "cell_type": "code",
   "execution_count": 27,
   "id": "4c50212a",
   "metadata": {},
   "outputs": [
    {
     "name": "stdout",
     "output_type": "stream",
     "text": [
      "Median: 5\n"
     ]
    }
   ],
   "source": [
    "def find_median(numbers):\n",
    "    # Sort the numbers in ascending order\n",
    "    sorted_numbers = sorted(numbers)\n",
    "\n",
    "    # Find the length of the list\n",
    "    length = len(sorted_numbers)\n",
    "\n",
    "    # Check if the length is even or odd\n",
    "    if length % 2 == 0:\n",
    "        # If the length is even, average the middle two numbers\n",
    "        mid_index1 = length // 2\n",
    "        mid_index2 = mid_index1 - 1\n",
    "        median = (sorted_numbers[mid_index1] + sorted_numbers[mid_index2]) / 2\n",
    "    else:\n",
    "        # If the length is odd, select the middle number\n",
    "        mid_index = length // 2\n",
    "        median = sorted_numbers[mid_index]\n",
    "\n",
    "    return median\n",
    "\n",
    "# Test the function\n",
    "numbers = [7, 2, 9, 4, 5, 1, 8, 6, 3]\n",
    "median = find_median(numbers)\n",
    "print(\"Median:\", median)\n"
   ]
  },
  {
   "cell_type": "markdown",
   "id": "e30616ce",
   "metadata": {},
   "source": [
    "16. Implement a function to check if a given list is sorted in non-decreasing order."
   ]
  },
  {
   "cell_type": "code",
   "execution_count": 3,
   "id": "1e01d65a",
   "metadata": {},
   "outputs": [
    {
     "name": "stdout",
     "output_type": "stream",
     "text": [
      "True\n",
      "False\n"
     ]
    }
   ],
   "source": [
    "def is_sorted(lst):\n",
    "    return all(lst[i] <= lst[i+1] for i in range(len(lst)-1))\n",
    "\n",
    "# Example usage\n",
    "list1 = [1, 2, 3, 4, 5]\n",
    "print(is_sorted(list1))  # Output: True\n",
    "\n",
    "list2 = [1, 3, 2, 4, 5]\n",
    "print(is_sorted(list2))  # Output: False\n"
   ]
  },
  {
   "cell_type": "markdown",
   "id": "9c8336b9",
   "metadata": {},
   "source": [
    "17. Write a Python program to find the intersection of two lists."
   ]
  },
  {
   "cell_type": "code",
   "execution_count": 4,
   "id": "5edb2c7b",
   "metadata": {},
   "outputs": [
    {
     "name": "stdout",
     "output_type": "stream",
     "text": [
      "[4, 5]\n"
     ]
    }
   ],
   "source": [
    "def find_inters(list1, list2):\n",
    "    set1 = set(list1)\n",
    "    set2 = set(list2)\n",
    "    intersection = set1.intersection(set2)\n",
    "    return list(intersection)\n",
    "\n",
    "# Example usage\n",
    "list1 = [1, 2, 3, 4, 5]\n",
    "list2 = [4, 5, 6, 7, 8]\n",
    "intersection = find_inters(list1, list2)\n",
    "print(intersection)  \n",
    "# Output: [4, 5]\n"
   ]
  },
  {
   "cell_type": "markdown",
   "id": "3234bb95",
   "metadata": {},
   "source": [
    "18. Implement a function to find the maximum subarray sum in a given list."
   ]
  },
  {
   "cell_type": "code",
   "execution_count": 6,
   "id": "f6d05458",
   "metadata": {},
   "outputs": [
    {
     "name": "stdout",
     "output_type": "stream",
     "text": [
      "6\n"
     ]
    }
   ],
   "source": [
    "def max_subarray_sum(lst):\n",
    "    current_sum = lst[0]\n",
    "    max_sum = lst[0]\n",
    "    \n",
    "    for num in lst[1:]:\n",
    "        current_sum = max(num, current_sum + num)\n",
    "        max_sum = max(max_sum, current_sum)\n",
    "    \n",
    "    return max_sum\n",
    "# Example usage\n",
    "list1 = [-2, 1, -3, 4, -1, 2, 1, -5, 4]\n",
    "max_sum = max_subarray_sum(list1)\n",
    "print(max_sum)  # Output: 6\n"
   ]
  },
  {
   "cell_type": "markdown",
   "id": "fad5b729",
   "metadata": {},
   "source": [
    "19. Write a program to remove all vowels from a given string."
   ]
  },
  {
   "cell_type": "code",
   "execution_count": 7,
   "id": "4679bdb2",
   "metadata": {},
   "outputs": [
    {
     "name": "stdout",
     "output_type": "stream",
     "text": [
      "Enter a string: junkook\n",
      "String without vowels: jnkk\n"
     ]
    }
   ],
   "source": [
    "def remove_vowels(string):\n",
    "    vowels = \"aeiouAEIOU\"  # List of vowels (both lowercase and uppercase)\n",
    "\n",
    "    # Remove vowels from the string\n",
    "    string_without_vowels = \"\"\n",
    "    for char in string:\n",
    "        if char not in vowels:\n",
    "            string_without_vowels += char\n",
    "\n",
    "    return string_without_vowels\n",
    "\n",
    "# Example usage\n",
    "input_string = input(\"Enter a string: \")\n",
    "result = remove_vowels(input_string)\n",
    "print(\"String without vowels:\", result)\n"
   ]
  },
  {
   "cell_type": "markdown",
   "id": "5508937c",
   "metadata": {},
   "source": [
    "20. Implement a function to reverse the order of words in a given sentence."
   ]
  },
  {
   "cell_type": "code",
   "execution_count": 8,
   "id": "b561a0a6",
   "metadata": {},
   "outputs": [
    {
     "name": "stdout",
     "output_type": "stream",
     "text": [
      "Enter a sentence: wellcome enjoy your coding\n",
      "Reversed sentence: coding your enjoy wellcome\n"
     ]
    }
   ],
   "source": [
    "def reverse_sentence(sentence):\n",
    "    words = sentence.split()  # Split the sentence into a list of words\n",
    "    reversed_words = words[::-1]  # Reverse the order of words\n",
    "    reversed_sentence = \" \".join(reversed_words)  # Join the reversed words into a sentence\n",
    "\n",
    "    return reversed_sentence\n",
    "\n",
    "# Example usage\n",
    "input_sentence = input(\"Enter a sentence: \")\n",
    "result = reverse_sentence(input_sentence)\n",
    "print(\"Reversed sentence:\", result)\n"
   ]
  },
  {
   "cell_type": "markdown",
   "id": "6dad0855",
   "metadata": {},
   "source": [
    "21. Write a Python program to check if two strings are anagrams of each other."
   ]
  },
  {
   "cell_type": "code",
   "execution_count": 9,
   "id": "35a7f041",
   "metadata": {},
   "outputs": [
    {
     "name": "stdout",
     "output_type": "stream",
     "text": [
      "Enter the first string: hello\n",
      "Enter the second string: world\n",
      "The strings are not anagrams.\n"
     ]
    }
   ],
   "source": [
    "def are_anagrams(string1, string2):\n",
    "    # Remove whitespace and convert both strings to lowercase\n",
    "    string1 = string1.replace(\" \", \"\").lower()\n",
    "    string2 = string2.replace(\" \", \"\").lower()\n",
    "\n",
    "    # Check if the lengths of the strings are equal\n",
    "    if len(string1) != len(string2):\n",
    "        return False\n",
    "\n",
    "    # Convert the strings to lists of characters\n",
    "    list1 = list(string1)\n",
    "    list2 = list(string2)\n",
    "\n",
    "    # Sort the character lists\n",
    "    list1.sort()\n",
    "    list2.sort()\n",
    "\n",
    "    # Compare the sorted lists\n",
    "    if list1 == list2:\n",
    "        return True\n",
    "    else:\n",
    "        return False\n",
    "\n",
    "# Example usage\n",
    "input_string1 = input(\"Enter the first string: \")\n",
    "input_string2 = input(\"Enter the second string: \")\n",
    "result = are_anagrams(input_string1, input_string2)\n",
    "if result:\n",
    "    print(\"The strings are anagrams.\")\n",
    "else:\n",
    "    print(\"The strings are not anagrams.\")\n"
   ]
  },
  {
   "cell_type": "markdown",
   "id": "091db63a",
   "metadata": {},
   "source": [
    "22. Implement a function to find the first non-repeating character in a string."
   ]
  },
  {
   "cell_type": "code",
   "execution_count": 10,
   "id": "2eef90d3",
   "metadata": {},
   "outputs": [
    {
     "name": "stdout",
     "output_type": "stream",
     "text": [
      "Enter a string: lkjhgfdsa\n",
      "First non-repeating character: l\n"
     ]
    }
   ],
   "source": [
    "def find_first_non_repeating_char(string):\n",
    "    char_counts = {}  # Dictionary to store character counts\n",
    "\n",
    "    # Count the occurrences of each character in the string\n",
    "    for char in string:\n",
    "        if char in char_counts:\n",
    "            char_counts[char] += 1\n",
    "        else:\n",
    "            char_counts[char] = 1\n",
    "\n",
    "    # Find the first non-repeating character\n",
    "    for char in string:\n",
    "        if char_counts[char] == 1:\n",
    "            return char\n",
    "\n",
    "    return None  # Return None if there are no non-repeating characters\n",
    "\n",
    "# Example usage\n",
    "input_string = input(\"Enter a string: \")\n",
    "result = find_first_non_repeating_char(input_string)\n",
    "if result:\n",
    "    print(\"First non-repeating character:\", result)\n",
    "else:\n",
    "    print(\"No non-repeating character found.\")\n"
   ]
  },
  {
   "cell_type": "markdown",
   "id": "9d68c02d",
   "metadata": {},
   "source": [
    "23. Write a program to find the prime factors of a given number."
   ]
  },
  {
   "cell_type": "code",
   "execution_count": 11,
   "id": "33a575f7",
   "metadata": {},
   "outputs": [
    {
     "name": "stdout",
     "output_type": "stream",
     "text": [
      "Enter a number: 6\n",
      "Prime factors: [2, 3]\n"
     ]
    }
   ],
   "source": [
    "def find_prime_factors(number):\n",
    "    prime_factors = []  # List to store prime factors\n",
    "\n",
    "    # Find the smallest prime factor and divide the number until it is no longer divisible\n",
    "    factor = 2\n",
    "    while factor * factor <= number:\n",
    "        if number % factor == 0:\n",
    "            prime_factors.append(factor)\n",
    "            number //= factor\n",
    "        else:\n",
    "            factor += 1\n",
    "\n",
    "    # If the remaining number is greater than 1, it is a prime factor\n",
    "    if number > 1:\n",
    "        prime_factors.append(number)\n",
    "\n",
    "    return prime_factors\n",
    "\n",
    "# Example usage\n",
    "input_number = int(input(\"Enter a number: \"))\n",
    "result = find_prime_factors(input_number)\n",
    "print(\"Prime factors:\", result)\n"
   ]
  },
  {
   "cell_type": "markdown",
   "id": "37354157",
   "metadata": {},
   "source": [
    "24. Implement a function to check if a given number is a power of two."
   ]
  },
  {
   "cell_type": "code",
   "execution_count": 13,
   "id": "68b44cf5",
   "metadata": {},
   "outputs": [
    {
     "name": "stdout",
     "output_type": "stream",
     "text": [
      "Enter a number: 9\n",
      "The number is not a power of two.\n"
     ]
    }
   ],
   "source": [
    "def is_power_of_two(number):\n",
    "    if number <= 0:\n",
    "        return False\n",
    "\n",
    "    # Check if the number is a power of two by bitwise AND operation\n",
    "    return (number & (number - 1)) == 0\n",
    "\n",
    "# Example usage\n",
    "input_number = int(input(\"Enter a number: \"))\n",
    "result = is_power_of_two(input_number)\n",
    "if result:\n",
    "    print(\"The number is a power of two.\")\n",
    "else:\n",
    "    print(\"The number is not a power of two.\")\n"
   ]
  },
  {
   "cell_type": "markdown",
   "id": "cdd27e44",
   "metadata": {},
   "source": [
    "25. Write a Python program to merge two sorted lists into a single sorted list."
   ]
  },
  {
   "cell_type": "code",
   "execution_count": 14,
   "id": "99a20489",
   "metadata": {},
   "outputs": [
    {
     "name": "stdout",
     "output_type": "stream",
     "text": [
      "Merged sorted list: [1, 2, 3, 4, 5, 6, 7, 8]\n"
     ]
    }
   ],
   "source": [
    "def merge_sorted_lists(list1, list2):\n",
    "    merged_list = []  # List to store the merged sorted list\n",
    "    i = 0  # Index for list1\n",
    "    j = 0  # Index for list2\n",
    "\n",
    "    # Merge the lists until one of them is fully processed\n",
    "    while i < len(list1) and j < len(list2):\n",
    "        if list1[i] < list2[j]:\n",
    "            merged_list.append(list1[i])\n",
    "            i += 1\n",
    "        else:\n",
    "            merged_list.append(list2[j])\n",
    "            j += 1\n",
    "\n",
    "    # Append any remaining elements from list1 or list2\n",
    "    while i < len(list1):\n",
    "        merged_list.append(list1[i])\n",
    "        i += 1\n",
    "    while j < len(list2):\n",
    "        merged_list.append(list2[j])\n",
    "        j += 1\n",
    "\n",
    "    return merged_list\n",
    "\n",
    "# Example usage\n",
    "input_list1 = [1, 3, 5, 7]\n",
    "input_list2 = [2, 4, 6, 8]\n",
    "result = merge_sorted_lists(input_list1, input_list2)\n",
    "print(\"Merged sorted list:\", result)\n"
   ]
  },
  {
   "cell_type": "markdown",
   "id": "922f948e",
   "metadata": {},
   "source": [
    "26. Implement a function to find the mode of a list of numbers."
   ]
  },
  {
   "cell_type": "code",
   "execution_count": 15,
   "id": "cba0d870",
   "metadata": {},
   "outputs": [
    {
     "name": "stdout",
     "output_type": "stream",
     "text": [
      "Mode(s): [4]\n"
     ]
    }
   ],
   "source": [
    "from collections import Counter\n",
    "\n",
    "def find_mode(numbers):\n",
    "    frequency_counter = Counter(numbers)  # Count the frequency of each number\n",
    "    modes = frequency_counter.most_common()  # Get the most common numbers and their frequencies\n",
    "\n",
    "    # Find the mode(s) with the highest frequency\n",
    "    max_frequency = modes[0][1]\n",
    "    mode_values = [mode[0] for mode in modes if mode[1] == max_frequency]\n",
    "\n",
    "    return mode_values\n",
    "\n",
    "# Example usage\n",
    "input_numbers = [1, 2, 2, 3, 3, 3, 4, 4, 4, 4]\n",
    "result = find_mode(input_numbers)\n",
    "print(\"Mode(s):\", result)\n"
   ]
  },
  {
   "cell_type": "markdown",
   "id": "3e06175c",
   "metadata": {},
   "source": [
    "27. Write a program to find the greatest common divisor (GCD) of two numbers."
   ]
  },
  {
   "cell_type": "code",
   "execution_count": 16,
   "id": "1662e7e1",
   "metadata": {},
   "outputs": [
    {
     "name": "stdout",
     "output_type": "stream",
     "text": [
      "Enter the first number: 6\n",
      "Enter the second number: 7\n",
      "GCD: 1\n"
     ]
    }
   ],
   "source": [
    "def find_gcd(a, b):\n",
    "    while b != 0:\n",
    "        a, b = b, a % b\n",
    "    return a\n",
    "\n",
    "# Example usage\n",
    "input_a = int(input(\"Enter the first number: \"))\n",
    "input_b = int(input(\"Enter the second number: \"))\n",
    "result = find_gcd(input_a, input_b)\n",
    "print(\"GCD:\", result)\n"
   ]
  },
  {
   "cell_type": "markdown",
   "id": "cd7ff273",
   "metadata": {},
   "source": [
    "28. Implement a function to calculate the square root of a given number."
   ]
  },
  {
   "cell_type": "code",
   "execution_count": 18,
   "id": "625b96a4",
   "metadata": {},
   "outputs": [
    {
     "name": "stdout",
     "output_type": "stream",
     "text": [
      "Enter a number: 4\n",
      "Square root: 2.0\n"
     ]
    }
   ],
   "source": [
    "def calculate_square_root(number):\n",
    "    if number < 0:\n",
    "        raise ValueError(\"Square root is not defined for negative numbers.\")\n",
    "\n",
    "    # Initial guess for the square root\n",
    "    n = number\n",
    "\n",
    "    # Iterate until desired precision is achieved\n",
    "    while True:\n",
    "        new_no = 0.5 * (n + number / n)  # Newton's method\n",
    "        if abs(new_no - n) < 1e-9:  # Check for desired precision\n",
    "            return new_no\n",
    "        n = new_no\n",
    "\n",
    "# Example usage\n",
    "input_number = float(input(\"Enter a number: \"))\n",
    "result = calculate_square_root(input_number)\n",
    "print(\"Square root:\", result)\n"
   ]
  },
  {
   "cell_type": "markdown",
   "id": "8769af8e",
   "metadata": {},
   "source": [
    "29. Write a Python program to check if a given string is a valid palindrome ignoring non-alphanumeric characters."
   ]
  },
  {
   "cell_type": "code",
   "execution_count": 19,
   "id": "99ff009b",
   "metadata": {},
   "outputs": [
    {
     "name": "stdout",
     "output_type": "stream",
     "text": [
      "Enter a string: lucy\n",
      "The string is not a valid palindrome.\n"
     ]
    }
   ],
   "source": [
    "import re\n",
    "\n",
    "def is_valid_palindrome(string):\n",
    "    # Remove non-alphanumeric characters and convert to lowercase\n",
    "    alphanumeric_string = re.sub(r'[^a-zA-Z0-9]', '', string.lower())\n",
    "\n",
    "    # Check if the alphanumeric string is a palindrome\n",
    "    return alphanumeric_string == alphanumeric_string[::-1]\n",
    "\n",
    "# Example usage\n",
    "input_string = input(\"Enter a string: \")\n",
    "result = is_valid_palindrome(input_string)\n",
    "if result:\n",
    "    print(\"The string is a valid palindrome.\")\n",
    "else:\n",
    "    print(\"The string is not a valid palindrome.\")\n"
   ]
  },
  {
   "cell_type": "markdown",
   "id": "a6963133",
   "metadata": {},
   "source": [
    "30. Implement a function to find the minimum element in a rotated sorted list."
   ]
  },
  {
   "cell_type": "code",
   "execution_count": 2,
   "id": "db431b00",
   "metadata": {},
   "outputs": [
    {
     "name": "stdout",
     "output_type": "stream",
     "text": [
      "Minimum element: 1\n"
     ]
    }
   ],
   "source": [
    "def min_element(rotated_list):\n",
    "    left = 0\n",
    "    right = len(rotated_list) - 1\n",
    "\n",
    "    # Perform binary search to find the minimum element\n",
    "    while left < right:\n",
    "        mid = (left + right) // 2\n",
    "\n",
    "        # Check if the mid element is greater than the rightmost element\n",
    "        if rotated_list[mid] > rotated_list[right]:\n",
    "            left = mid + 1\n",
    "        else:\n",
    "            right = mid\n",
    "\n",
    "    # The left index will point to the minimum element\n",
    "    return rotated_list[left]\n",
    "\n",
    "# Example usage\n",
    "input_list = [4, 5, 6, 7, 8, 1, 2]\n",
    "result = min_element(input_list)\n",
    "print(\"Minimum element:\", result)\n"
   ]
  },
  {
   "cell_type": "markdown",
   "id": "dc9285dd",
   "metadata": {},
   "source": [
    "31. Write a program to find the sum of all even numbers in a list."
   ]
  },
  {
   "cell_type": "code",
   "execution_count": 6,
   "id": "dd785a11",
   "metadata": {},
   "outputs": [
    {
     "name": "stdout",
     "output_type": "stream",
     "text": [
      "Sum of Even nos:  20\n"
     ]
    }
   ],
   "source": [
    "def find_even_sum(numbers):\n",
    "    s = 0\n",
    "    for i in numbers :\n",
    "        \n",
    "        if i % 2 == 0:\n",
    "            s += i \n",
    "    return s \n",
    "l = [1,3,5,2,4,6,8]\n",
    "result = find_even_sum(l)\n",
    "print(\"Sum of Even nos: \", result)"
   ]
  },
  {
   "cell_type": "markdown",
   "id": "975be035",
   "metadata": {},
   "source": [
    "32. Implement a function to calculate the power of a number using recursion."
   ]
  },
  {
   "cell_type": "code",
   "execution_count": 7,
   "id": "3569faf9",
   "metadata": {},
   "outputs": [
    {
     "name": "stdout",
     "output_type": "stream",
     "text": [
      "Enter the base: 6\n",
      "Enter the exponent: 2\n",
      "Result: 36.0\n"
     ]
    }
   ],
   "source": [
    "def power(b, e):\n",
    "    if e == 0:\n",
    "        return 1\n",
    "    elif e > 0:\n",
    "        return b * power(b, e - 1)\n",
    "    else:\n",
    "        return 1 / (b * power(b, -e - 1))\n",
    "\n",
    "# Example usage\n",
    "input_base = float(input(\"Enter the base: \"))\n",
    "input_exponent = int(input(\"Enter the exponent: \"))\n",
    "result = power(input_base, input_exponent)\n",
    "print(\"Result:\", result)\n"
   ]
  },
  {
   "cell_type": "markdown",
   "id": "03c2e748",
   "metadata": {},
   "source": [
    "33. Write a Python program to remove duplicates from a list while preserving the order."
   ]
  },
  {
   "cell_type": "code",
   "execution_count": 8,
   "id": "a4391e43",
   "metadata": {},
   "outputs": [
    {
     "name": "stdout",
     "output_type": "stream",
     "text": [
      "List without duplicates: [1, 3, 2, 4, 5, 8, 7, 6, 9]\n"
     ]
    }
   ],
   "source": [
    "def remove_duplicates(input_list):\n",
    "    u = []\n",
    "    s = set()\n",
    "\n",
    "    for i in input_list:\n",
    "        if i not in s:\n",
    "            u.append(i)\n",
    "            s.add(i)\n",
    "\n",
    "    return u\n",
    "\n",
    "# Example usage\n",
    "input_list = [1, 3, 2, 2, 4, 3, 5, 1,8,7,6,7,9,5]\n",
    "result = remove_duplicates(input_list)\n",
    "print(\"List without duplicates:\", result)\n"
   ]
  },
  {
   "cell_type": "markdown",
   "id": "79e99f95",
   "metadata": {},
   "source": [
    "34. Implement a function to find the longest common prefix among a list of strings."
   ]
  },
  {
   "cell_type": "code",
   "execution_count": 12,
   "id": "d1e81e2c",
   "metadata": {},
   "outputs": [
    {
     "name": "stdout",
     "output_type": "stream",
     "text": [
      "Longest common prefix: w\n"
     ]
    }
   ],
   "source": [
    "def find_longest_common_prefix(strings):\n",
    "    if not strings:\n",
    "        return \"\"  # Return an empty string if the list is empty\n",
    "\n",
    "    # Find the shortest string in the list\n",
    "    shortest_string = min(strings, key=len)\n",
    "\n",
    "    # Iterate over the characters of the shortest string\n",
    "    for i, char in enumerate(shortest_string):\n",
    "        for string in strings:\n",
    "            if string[i] != char:\n",
    "                return shortest_string[:i]  # Return the common prefix\n",
    "\n",
    "    return shortest_string  # Return the shortest string as the common prefix\n",
    "\n",
    "# Example usage\n",
    "input_strings = [\"water\",\"wind\",\"waffer\",\"walnut\"]\n",
    "result = find_longest_common_prefix(input_strings)\n",
    "print(\"Longest common prefix:\", result)\n"
   ]
  },
  {
   "cell_type": "markdown",
   "id": "f8aecb84",
   "metadata": {},
   "source": [
    "35. Write a program to check if a given number is a perfect square."
   ]
  },
  {
   "cell_type": "code",
   "execution_count": 16,
   "id": "43fe6944",
   "metadata": {},
   "outputs": [
    {
     "name": "stdout",
     "output_type": "stream",
     "text": [
      "Enter a number: 8\n",
      "The number is not a perfect square.\n"
     ]
    }
   ],
   "source": [
    "def perfect_square(n):\n",
    "    if n < 0:\n",
    "        return False  # Negative numbers cannot be perfect squares\n",
    "\n",
    "    # Check if the square root of the number is an integer\n",
    "    sqrt = int(n ** 0.5)\n",
    "    return sqrt * sqrt == n\n",
    "\n",
    "# Example usage\n",
    "num = int(input(\"Enter a number: \"))\n",
    "result = perfect_square(num)\n",
    "if result:\n",
    "    print(\"The number is a perfect square.\")\n",
    "else:\n",
    "    print(\"The number is not a perfect square.\")\n"
   ]
  },
  {
   "cell_type": "markdown",
   "id": "2146eea7",
   "metadata": {},
   "source": [
    "36. Implement a function to calculate the product of all elements in a list."
   ]
  },
  {
   "cell_type": "code",
   "execution_count": 17,
   "id": "5fd6c04e",
   "metadata": {},
   "outputs": [
    {
     "name": "stdout",
     "output_type": "stream",
     "text": [
      "Product: 5040\n"
     ]
    }
   ],
   "source": [
    "def cal_prod(numbers):\n",
    "    prod = 1\n",
    "\n",
    "    for n in numbers:\n",
    "        prod *= n\n",
    "\n",
    "    return prod\n",
    "\n",
    "\n",
    "l = [2, 3, 4, 5, 6, 7]\n",
    "result = cal_prod(l)\n",
    "print(\"Product:\", result)\n"
   ]
  },
  {
   "cell_type": "markdown",
   "id": "af34149b",
   "metadata": {},
   "source": [
    "37. Write a Python program to reverse the order of words in a sentence while preserving the word order."
   ]
  },
  {
   "cell_type": "code",
   "execution_count": 18,
   "id": "22389a9e",
   "metadata": {},
   "outputs": [
    {
     "name": "stdout",
     "output_type": "stream",
     "text": [
      "Enter a sentence: Hello Wellcome to code\n",
      "Reversed sentence: code to Wellcome Hello\n"
     ]
    }
   ],
   "source": [
    "def rev_wrd(sent):\n",
    "    words = sent.split()  # Split the sentence into a list of words\n",
    "    rev_sentence = \" \".join(reversed(words))  # Reverse the order of words and join them back\n",
    "\n",
    "    return rev_sentence\n",
    "\n",
    "# Example usage\n",
    "s = input(\"Enter a sentence: \")\n",
    "result = rev_wrd(s)\n",
    "print(\"Reversed sentence:\", result)\n"
   ]
  },
  {
   "cell_type": "markdown",
   "id": "d1477367",
   "metadata": {},
   "source": [
    "38. Implement a function to find the missing number in a given list of consecutive numbers."
   ]
  },
  {
   "cell_type": "code",
   "execution_count": 21,
   "id": "f6011c87",
   "metadata": {},
   "outputs": [
    {
     "name": "stdout",
     "output_type": "stream",
     "text": [
      "Missing number: 4\n"
     ]
    }
   ],
   "source": [
    "def missing_number(nums):\n",
    "    n = len(nums) + 1  # Total number of elements, including the missing one\n",
    "    expected_sum = (n * (n + 1)) // 2  # Sum of all numbers from 1 to n (inclusive)\n",
    "    actual_sum = sum(nums)  # Sum of the given numbers\n",
    "\n",
    "    missing_number = expected_sum - actual_sum\n",
    "    return missing_number\n",
    "\n",
    "# Example usage\n",
    "l = [1, 2, 3, 5, 6, 7, 8, 9]\n",
    "res = missing_number(l)\n",
    "print(\"Missing number:\", res)\n"
   ]
  },
  {
   "cell_type": "markdown",
   "id": "0a3cdb97",
   "metadata": {},
   "source": [
    "39. Write a program to find the sum of digits of a given number."
   ]
  },
  {
   "cell_type": "code",
   "execution_count": 22,
   "id": "8d5c8928",
   "metadata": {},
   "outputs": [
    {
     "name": "stdout",
     "output_type": "stream",
     "text": [
      "Enter a number: 456\n",
      "Sum of digits: 15\n"
     ]
    }
   ],
   "source": [
    "def sum_of_digits(num):\n",
    "    total_sum = 0\n",
    "\n",
    "    # Iterate over each digit in the number\n",
    "    while num > 0:\n",
    "        digit = num % 10  \n",
    "        total_sum += digit  \n",
    "        num //= 10  \n",
    "\n",
    "    return total_sum\n",
    "\n",
    "\n",
    "number = int(input(\"Enter a number: \"))\n",
    "res = sum_of_digits(number)\n",
    "print(\"Sum of digits:\", res)\n"
   ]
  },
  {
   "cell_type": "markdown",
   "id": "42bb96d1",
   "metadata": {},
   "source": [
    "40. Implement a function to check if a given string is a valid palindrome considering case sensitivity."
   ]
  },
  {
   "cell_type": "code",
   "execution_count": 23,
   "id": "064c6fb4",
   "metadata": {},
   "outputs": [
    {
     "name": "stdout",
     "output_type": "stream",
     "text": [
      "Enter a string: john\n",
      "The string is not a valid palindrome.\n"
     ]
    }
   ],
   "source": [
    "def valid_palindrome(s):\n",
    "    # Remove whitespace and punctuation, and convert to lowercase\n",
    "    alphanumeric_string = \"\".join(char.lower() for char in s if char.isalnum())\n",
    "\n",
    "    # Check if the alphanumeric string is a palindrome\n",
    "    return alphanumeric_string == alphanumeric_string[::-1]\n",
    "\n",
    "# Example usage\n",
    "s1 = input(\"Enter a string: \")\n",
    "res = valid_palindrome(s1)\n",
    "if res:\n",
    "    print(\"The string is a valid palindrome.\")\n",
    "else:\n",
    "    print(\"The string is not a valid palindrome.\")\n"
   ]
  },
  {
   "cell_type": "markdown",
   "id": "26fd8b82",
   "metadata": {},
   "source": [
    "41. Write a Python program to find the smallest missing positive integer in a list."
   ]
  },
  {
   "cell_type": "code",
   "execution_count": 24,
   "id": "a13b133c",
   "metadata": {},
   "outputs": [
    {
     "name": "stdout",
     "output_type": "stream",
     "text": [
      "Smallest missing positive integer: 4\n"
     ]
    }
   ],
   "source": [
    "def smallest_integer(numbers):\n",
    "    # Separate positive numbers from non-positive numbers\n",
    "    positive_numbers = [num for num in numbers if num > 0]\n",
    "\n",
    "    # Sort the positive numbers\n",
    "    positive_numbers.sort()\n",
    "\n",
    "    # Find the smallest missing positive integer\n",
    "    smallest_missing = 1\n",
    "    for num in positive_numbers:\n",
    "        if num == smallest_missing:\n",
    "            smallest_missing += 1\n",
    "        elif num > smallest_missing:\n",
    "            break\n",
    "\n",
    "    return smallest_missing\n",
    "\n",
    "# Example usage\n",
    "l = [-1, 3, 2, 0, 1, 5]\n",
    "result = smallest_integer(l)\n",
    "print(\"Smallest missing positive integer:\", result)\n"
   ]
  },
  {
   "cell_type": "markdown",
   "id": "7363c1e2",
   "metadata": {},
   "source": [
    "42. Implement a function to find the longest palindrome substring in a given string."
   ]
  },
  {
   "cell_type": "code",
   "execution_count": 26,
   "id": "3a75a06c",
   "metadata": {},
   "outputs": [
    {
     "name": "stdout",
     "output_type": "stream",
     "text": [
      "Enter a string: helllllo\n",
      "Longest palindrome substring: lllll\n"
     ]
    }
   ],
   "source": [
    "def pal_str(string):\n",
    "    lngst_palindrome = \"\"\n",
    "\n",
    "    for i in range(len(string)):\n",
    "        # Find odd length palindromes\n",
    "        palindrome_odd = expand_around_center(string, i, i)\n",
    "        if len(palindrome_odd) > len(lngst_palindrome):\n",
    "            lngst_palindrome = palindrome_odd\n",
    "\n",
    "        # Find even length palindromes\n",
    "        palindrome_even = expand_around_center(string, i, i + 1)\n",
    "        if len(palindrome_even) > len(lngst_palindrome):\n",
    "            lngst_palindrome = palindrome_even\n",
    "\n",
    "    return lngst_palindrome\n",
    "\n",
    "def expand_around_center(string, left, right):\n",
    "    while left >= 0 and right < len(string) and string[left] == string[right]:\n",
    "        left -= 1\n",
    "        right += 1\n",
    "    return string[left + 1:right]\n",
    "\n",
    "# Example usage\n",
    "s = input(\"Enter a string: \")\n",
    "r = pal_str(s)\n",
    "print(\"Longest palindrome substring:\", r)\n"
   ]
  },
  {
   "cell_type": "markdown",
   "id": "3352836f",
   "metadata": {},
   "source": [
    "43. Write a program to find the number of occurrences of a given element in a list."
   ]
  },
  {
   "cell_type": "code",
   "execution_count": 18,
   "id": "3ff07e34",
   "metadata": {},
   "outputs": [
    {
     "name": "stdout",
     "output_type": "stream",
     "text": [
      "8 has occurred 5 times\n"
     ]
    }
   ],
   "source": [
    "def countno(lst, x):\n",
    "    count = 0\n",
    "    for ele in lst:\n",
    "        if (ele == x):\n",
    "            count = count + 1\n",
    "    return count\n",
    "\n",
    "\n",
    "# Driver Code\n",
    "lst = [8, 6, 8, 10, 8, 20, 10, 8, 8]\n",
    "x = 8\n",
    "print('{} has occurred {} times'.format(x,countno(lst, x)))\n"
   ]
  },
  {
   "cell_type": "markdown",
   "id": "88f3206d",
   "metadata": {},
   "source": [
    "44. Implement a function to check if a given number is a perfect number."
   ]
  },
  {
   "cell_type": "code",
   "execution_count": 13,
   "id": "f1c0b04a",
   "metadata": {},
   "outputs": [
    {
     "name": "stdout",
     "output_type": "stream",
     "text": [
      "Enter a number: 6\n",
      "6 is a perfect number.\n"
     ]
    }
   ],
   "source": [
    "def is_perfect_number(number):\n",
    "    if number <= 0:\n",
    "        return False\n",
    "\n",
    "    divisor_sum = 0\n",
    "    for i in range(1, number):\n",
    "        if number % i == 0:\n",
    "            divisor_sum += i\n",
    "\n",
    "    return divisor_sum == number\n",
    "\n",
    "# Test the function\n",
    "number = int(input(\"Enter a number: \"))\n",
    "if is_perfect_number(number):\n",
    "    print(number, \"is a perfect number.\")\n",
    "else:\n",
    "    print(number, \"is not a perfect number.\")\n"
   ]
  },
  {
   "cell_type": "markdown",
   "id": "8e4c1c90",
   "metadata": {},
   "source": [
    "45. Write a Python program to remove all duplicates from a string."
   ]
  },
  {
   "cell_type": "code",
   "execution_count": 12,
   "id": "dc742216",
   "metadata": {},
   "outputs": [
    {
     "name": "stdout",
     "output_type": "stream",
     "text": [
      "Enter a string: MilanMohapatra\n",
      "String with duplicates removed: Milanohptr\n"
     ]
    }
   ],
   "source": [
    "def remove_duplicates(string):\n",
    "    unique_chars = []\n",
    "    for char in string:\n",
    "        if char not in unique_chars:\n",
    "            unique_chars.append(char)\n",
    "    return ''.join(unique_chars)\n",
    "\n",
    "# Test the function\n",
    "input_string = input(\"Enter a string: \")\n",
    "result_string = remove_duplicates(input_string)\n",
    "print(\"String with duplicates removed:\", result_string)\n"
   ]
  },
  {
   "cell_type": "markdown",
   "id": "b44bc7bc",
   "metadata": {},
   "source": [
    "46. Implement a function to find the first missing positive."
   ]
  },
  {
   "cell_type": "code",
   "execution_count": 10,
   "id": "1044f31b",
   "metadata": {},
   "outputs": [
    {
     "name": "stdout",
     "output_type": "stream",
     "text": [
      "The first missing positive is: 2\n"
     ]
    }
   ],
   "source": [
    "def find_first_missing_positive(nums):\n",
    "    # Step 1: Separate positive and non-positive integers\n",
    "    n = len(nums)\n",
    "    i = 0\n",
    "    while i < n:\n",
    "        if 0 < nums[i] <= n and nums[nums[i] - 1] != nums[i]:\n",
    "            nums[nums[i] - 1], nums[i] = nums[i], nums[nums[i] - 1]\n",
    "        else:\n",
    "            i += 1\n",
    "\n",
    "    # Step 2: Find the first missing positive\n",
    "    for i in range(n):\n",
    "        if nums[i] != i + 1:\n",
    "            return i + 1\n",
    "\n",
    "    return n + 1\n",
    "\n",
    "# Test the function\n",
    "numbers = [3, 4, -1, 1]\n",
    "missing_positive = find_first_missing_positive(numbers)\n",
    "print(\"The first missing positive is:\", missing_positive)\n"
   ]
  },
  {
   "cell_type": "code",
   "execution_count": null,
   "id": "e6e451b9",
   "metadata": {},
   "outputs": [],
   "source": []
  }
 ],
 "metadata": {
  "kernelspec": {
   "display_name": "Python 3 (ipykernel)",
   "language": "python",
   "name": "python3"
  },
  "language_info": {
   "codemirror_mode": {
    "name": "ipython",
    "version": 3
   },
   "file_extension": ".py",
   "mimetype": "text/x-python",
   "name": "python",
   "nbconvert_exporter": "python",
   "pygments_lexer": "ipython3",
   "version": "3.10.9"
  }
 },
 "nbformat": 4,
 "nbformat_minor": 5
}
